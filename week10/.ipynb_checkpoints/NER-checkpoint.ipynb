{
 "cells": [
  {
   "cell_type": "code",
   "execution_count": 1,
   "id": "eaafadbd-b728-4b04-b2ff-500a3227ca4d",
   "metadata": {},
   "outputs": [],
   "source": [
    "%%writefile testutility.py\n",
    "import logging\n",
    "import os\n",
    "import subprocess\n",
    "import yaml\n",
    "import pandas as pd\n",
    "import datetime \n",
    "import gc\n",
    "import re\n",
    "\n",
    "def read_yml_file(file_path):\n",
    "    with open(file_path, 'r') as stream:\n",
    "        try:\n",
    "            return yaml.safe_load(stream)\n",
    "        except yaml.YAMLError as exc:\n",
    "            logging.error(exc)\n",
    "\n",
    "def replacer(string, char):\n",
    "    pattern = char + '{2,}'\n",
    "    string = re.sub(pattern, char, string)\n",
    "    return string\n",
    "\n",
    "def col_validate(df, col_config):\n",
    "  cols = df.columns\n",
    "  cols = cols.str.strip()\n",
    "  cols.str.replace(\"_\", \"\")\n",
    "  cols = list(map(lambda x: replacer(x, ' '), list(cols)))\n",
    "  expected_col = list(map(lambda x: x.lower(),  col_config['columns']))\n",
    "  cols.sort()\n",
    "  expected_col.sort()\n",
    "  if len(cols) == len(expected_col) and cols == expected_col:\n",
    "    print(\"Column name and Column length Validation Passed!!\")\n",
    "    return 1\n",
    "  else:\n",
    "    print(\"Column name and Column length Validation Failed..\")\n",
    "    mismatched_columns_file = list(set(cols).difference(expected_col))\n",
    "    print(\"Following File columns are not in the YAML file\", mismatched_columns_file)\n",
    "    missing_YAML_file = list(set(expected_col).difference(cols))\n",
    "    print(\"Following YAML columns are not in the file uploaded\", missing_YAML_file)\n",
    "    logging.info(f'df columns: {cols}')\n",
    "    logging.info(f'expected columns: {expected_col}')\n",
    "    return 0\n",
    "\n",
    "# Function to get the size of dataset\n",
    "def humanbytes(B):\n",
    "  'Return the given bytes as a human friendly KB, MB, GB, or TB string'\n",
    "  B = float(B)\n",
    "  KB = float(1024)\n",
    "  MB = float(KB ** 2) # 1,048,576\n",
    "  GB = float(KB ** 3) # 1,073,741,824\n",
    "  TB = float(KB ** 4) # 1,099,511,627,776\n",
    "\n",
    "  if B < KB:\n",
    "    return '{0} {1}'.format(B,'Bytes' if 0 == B > 1 else 'Byte')\n",
    "  elif KB <= B < MB:\n",
    "    return '{0:.2f} KB'.format(B/KB)\n",
    "  elif MB <= B < GB:\n",
    "    return '{0:.2f} MB'.format(B/MB)\n",
    "  elif GB <= B < TB:\n",
    "    return '{0:.2f} GB'.format(B/GB)\n",
    "  elif TB <= B:\n",
    "    return '{0:.2f} TB'.format(B/TB)"
   ]
  },
  {
   "cell_type": "code",
   "execution_count": 2,
   "id": "c19b3da5-629b-493c-bc40-829cc0457d3f",
   "metadata": {},
   "outputs": [
    {
     "name": "stdout",
     "output_type": "stream",
     "text": [
      "Writing file.yaml\n"
     ]
    }
   ],
   "source": [
    "%%writefile file.yaml\n",
    "columns: \n",
    "  - annotation\n",
    "  - content\n",
    "dataset_name: resumes\n",
    "dtypes: \n",
    "  annotation: list\n",
    "  content: str\n",
    "file_name: Resume\n",
    "file_type: json\n",
    "skip_leading_rows: 1\n",
    "table_name: resumes"
   ]
  },
  {
   "cell_type": "code",
   "execution_count": 3,
   "id": "4b37d1fe-89ed-4a5f-bd9b-488fe35be2f7",
   "metadata": {},
   "outputs": [
    {
     "ename": "ModuleNotFoundError",
     "evalue": "No module named 'testutility'",
     "output_type": "error",
     "traceback": [
      "\u001b[0;31m---------------------------------------------------------------------------\u001b[0m",
      "\u001b[0;31mModuleNotFoundError\u001b[0m                       Traceback (most recent call last)",
      "Cell \u001b[0;32mIn[3], line 1\u001b[0m\n\u001b[0;32m----> 1\u001b[0m \u001b[38;5;28;01mimport\u001b[39;00m \u001b[38;5;21;01mtestutility\u001b[39;00m \u001b[38;5;28;01mas\u001b[39;00m \u001b[38;5;21;01mutil\u001b[39;00m\n\u001b[1;32m      3\u001b[0m \u001b[38;5;66;03m# Read config file\u001b[39;00m\n\u001b[1;32m      4\u001b[0m col_config \u001b[38;5;241m=\u001b[39m util\u001b[38;5;241m.\u001b[39mread_yml_file(\u001b[38;5;124m\"\u001b[39m\u001b[38;5;124mfile.yaml\u001b[39m\u001b[38;5;124m\"\u001b[39m)\n",
      "\u001b[0;31mModuleNotFoundError\u001b[0m: No module named 'testutility'"
     ]
    }
   ],
   "source": [
    "import testutility as util\n",
    "\n",
    "# Read config file\n",
    "col_config = util.read_yml_file(\"file.yaml\")\n",
    "col_config"
   ]
  },
  {
   "cell_type": "code",
   "execution_count": 4,
   "id": "23f1ec5a-9019-4544-8b69-188daa2f955b",
   "metadata": {},
   "outputs": [
    {
     "name": "stdout",
     "output_type": "stream",
     "text": [
      "\u001b[31mERROR: Could not find a version that satisfies the requirement testutility (from versions: none)\u001b[0m\u001b[31m\n",
      "\u001b[0m\u001b[31mERROR: No matching distribution found for testutility\u001b[0m\u001b[31m\n",
      "\u001b[0mNote: you may need to restart the kernel to use updated packages.\n"
     ]
    }
   ],
   "source": [
    "pip install testutility"
   ]
  },
  {
   "cell_type": "code",
   "execution_count": null,
   "id": "69ffb1a7-892d-4a91-b206-6bdb49243334",
   "metadata": {},
   "outputs": [],
   "source": []
  }
 ],
 "metadata": {
  "kernelspec": {
   "display_name": "Python 3 (ipykernel)",
   "language": "python",
   "name": "python3"
  },
  "language_info": {
   "codemirror_mode": {
    "name": "ipython",
    "version": 3
   },
   "file_extension": ".py",
   "mimetype": "text/x-python",
   "name": "python",
   "nbconvert_exporter": "python",
   "pygments_lexer": "ipython3",
   "version": "3.12.1"
  }
 },
 "nbformat": 4,
 "nbformat_minor": 5
}
