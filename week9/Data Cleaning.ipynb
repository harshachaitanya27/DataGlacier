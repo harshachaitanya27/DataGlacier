{
 "cells": [
  {
   "cell_type": "code",
   "execution_count": 1,
   "id": "564c58dd-9297-4812-b26f-38bdd4d0f7af",
   "metadata": {},
   "outputs": [
    {
     "name": "stderr",
     "output_type": "stream",
     "text": [
      "[nltk_data] Downloading package stopwords to\n",
      "[nltk_data]     /Users/harshachaitanya/nltk_data...\n",
      "[nltk_data]   Package stopwords is already up-to-date!\n",
      "[nltk_data] Downloading package punkt to\n",
      "[nltk_data]     /Users/harshachaitanya/nltk_data...\n",
      "[nltk_data]   Package punkt is already up-to-date!\n",
      "[nltk_data] Downloading package averaged_perceptron_tagger to\n",
      "[nltk_data]     /Users/harshachaitanya/nltk_data...\n",
      "[nltk_data]   Package averaged_perceptron_tagger is already up-to-\n",
      "[nltk_data]       date!\n",
      "[nltk_data] Downloading package wordnet to\n",
      "[nltk_data]     /Users/harshachaitanya/nltk_data...\n",
      "[nltk_data]   Package wordnet is already up-to-date!\n"
     ]
    },
    {
     "data": {
      "text/plain": [
       "True"
      ]
     },
     "execution_count": 1,
     "metadata": {},
     "output_type": "execute_result"
    }
   ],
   "source": [
    "import pandas as pd\n",
    "import re\n",
    "from nltk.corpus import stopwords\n",
    "from nltk.stem import WordNetLemmatizer\n",
    "from sklearn.feature_extraction.text import TfidfVectorizer\n",
    "from sklearn.feature_extraction.text import CountVectorizer\n",
    "from nltk import pos_tag\n",
    "from nltk.tokenize import word_tokenize\n",
    "from nltk.corpus import wordnet\n",
    "from gensim.models import Word2Vec\n",
    "\n",
    "# Download NLTK resources\n",
    "import nltk\n",
    "nltk.download('stopwords')\n",
    "nltk.download('punkt')\n",
    "nltk.download('averaged_perceptron_tagger')\n",
    "nltk.download('wordnet')\n"
   ]
  },
  {
   "cell_type": "code",
   "execution_count": 2,
   "id": "4d4d2bcc-7ecd-4827-9bbb-898cd1b6c15f",
   "metadata": {},
   "outputs": [],
   "source": [
    "df = pd.read_json('resume.json', lines = True)"
   ]
  },
  {
   "cell_type": "code",
   "execution_count": 3,
   "id": "3591b481-af0d-42ad-8883-b275161d2ac9",
   "metadata": {},
   "outputs": [],
   "source": [
    "import contractions\n",
    "\n",
    "def expand_contractions(text):\n",
    "    # Using contractions library\n",
    "    expanded_text = contractions.fix(text)\n",
    "    return expanded_text\n"
   ]
  },
  {
   "cell_type": "code",
   "execution_count": 7,
   "id": "1b1ee654-f33c-43f1-aecb-497519dee697",
   "metadata": {},
   "outputs": [],
   "source": [
    "import re\n",
    "def remove_digits(text):\n",
    "    # Remove digits\n",
    "    text = re.sub(r'\\d', '', text)\n",
    "    return text"
   ]
  },
  {
   "cell_type": "code",
   "execution_count": 6,
   "id": "69d2230d-6ab1-4128-9df6-c56ba225ea74",
   "metadata": {},
   "outputs": [],
   "source": [
    "def get_wordnet_pos(pos_tag):\n",
    "    if pos_tag.startswith('J'):\n",
    "        return wordnet.ADJ\n",
    "    elif pos_tag.startswith('V'):\n",
    "        return wordnet.VERB\n",
    "    elif pos_tag.startswith('N'):\n",
    "        return wordnet.NOUN\n",
    "    elif pos_tag.startswith('R'):\n",
    "        return wordnet.ADV\n",
    "    else:\n",
    "        return wordnet.NOUN\n",
    "# Function to clean and preprocess text\n",
    "def clean_text(text):\n",
    "    # Expand contractions\n",
    "    text = expand_contractions(text)\n",
    "\n",
    "    # Remove digits\n",
    "    text = remove_digits(text)\n",
    "\n",
    "    # Convert to lowercase\n",
    "    text = text.lower()\n",
    "\n",
    "    # Remove unnecessary characters\n",
    "    text = re.sub(r'[^a-z\\s]', '', text)\n",
    "\n",
    "    # Remove stop words\n",
    "    stop_words = set(stopwords.words('english'))\n",
    "    words = word_tokenize(text)\n",
    "    words = [word for word in words if word not in stop_words]\n",
    "\n",
    "    # Lemmatization\n",
    "    lemmatizer = WordNetLemmatizer()\n",
    "    words = [lemmatizer.lemmatize(word, get_wordnet_pos(pos)) for word, pos in pos_tag(words)]\n",
    "\n",
    "    # Convert numbers to a single placeholder\n",
    "    words = ['num' if word.isdigit() else word for word in words]\n",
    "\n",
    "    return ' '.join(words)"
   ]
  },
  {
   "cell_type": "code",
   "execution_count": 9,
   "id": "8eec4498-f49c-4cfd-884d-b3568bf2bf2a",
   "metadata": {
    "scrolled": true
   },
   "outputs": [
    {
     "name": "stdout",
     "output_type": "stream",
     "text": [
      "                                               content  \\\n",
      "0    Govardhana K\\nSenior Software Engineer\\n\\nBeng...   \n",
      "1    Harini Komaravelli\\nTest Analyst at Oracle, Hy...   \n",
      "2    Hartej Kathuria\\nData Analyst Intern - Oracle ...   \n",
      "3    Ijas Nizamuddin\\nAssociate Consultant - State ...   \n",
      "4    Imgeeyaul Ansari\\njava developer\\n\\nPune, Maha...   \n",
      "..                                                 ...   \n",
      "195  Mansi Thanki\\nStudent\\n\\nJamnagar, Gujarat - E...   \n",
      "196  Anil Kumar\\nMicrosoft Azure (Basic Management)...   \n",
      "197  Siddharth Choudhary\\nMicrosoft Office Suite - ...   \n",
      "198  Valarmathi Dhandapani\\nInvestment Banking Oper...   \n",
      "199  Pradeep Kumar\\nSecurity Analyst in Infosys - C...   \n",
      "\n",
      "                                       cleaned_content  \n",
      "0    govardhana k senior software engineer bengalur...  \n",
      "1    harini komaravelli test analyst oracle hyderab...  \n",
      "2    hartej kathuria data analyst intern oracle ret...  \n",
      "3    ijas nizamuddin associate consultant state str...  \n",
      "4    imgeeyaul ansari java developer pune maharasht...  \n",
      "..                                                 ...  \n",
      "195  mansi thanki student jamnagar gujarat email in...  \n",
      "196  anil kumar microsoft azure basic management de...  \n",
      "197  siddharth choudhary microsoft office suite exp...  \n",
      "198  valarmathi dhandapani investment banking opera...  \n",
      "199  pradeep kumar security analyst infosys career ...  \n",
      "\n",
      "[200 rows x 2 columns]\n"
     ]
    }
   ],
   "source": [
    "# Apply the cleaning function to the 'content' column\n",
    "df['cleaned_content'] = df['content'].apply(clean_text)\n",
    "\n",
    "# CountVectorizer\n",
    "count_vectorizer = CountVectorizer()\n",
    "count_matrix = count_vectorizer.fit_transform(df['cleaned_content'])\n",
    "\n",
    "# Word2Vec Model\n",
    "tokenized_text = [word_tokenize(text) for text in df['cleaned_content']]\n",
    "word2vec_model = Word2Vec(sentences=tokenized_text, vector_size=100, window=5, min_count=1, workers=4)\n",
    "\n",
    "# Display the cleaned DataFrame\n",
    "print(df[['content', 'cleaned_content']])"
   ]
  },
  {
   "cell_type": "code",
   "execution_count": 10,
   "id": "9842bc09-0e8d-4e88-b184-de7bf12e7b3b",
   "metadata": {
    "scrolled": true
   },
   "outputs": [
    {
     "data": {
      "text/plain": [
       "'Govardhana K\\nSenior Software Engineer\\n\\nBengaluru, Karnataka, Karnataka - Email me on Indeed: indeed.com/r/Govardhana-K/\\nb2de315d95905b68\\n\\nTotal IT experience 5 Years 6 Months\\nCloud Lending Solutions INC 4 Month • Salesforce Developer\\nOracle 5 Years 2 Month • Core Java Developer\\nLanguages Core Java, Go Lang\\nOracle PL-SQL programming,\\nSales Force Developer with APEX.\\n\\nDesignations & Promotions\\n\\nWilling to relocate: Anywhere\\n\\nWORK EXPERIENCE\\n\\nSenior Software Engineer\\n\\nCloud Lending Solutions -  Bangalore, Karnataka -\\n\\nJanuary 2018 to Present\\n\\nPresent\\n\\nSenior Consultant\\n\\nOracle -  Bangalore, Karnataka -\\n\\nNovember 2016 to December 2017\\n\\nStaff Consultant\\n\\nOracle -  Bangalore, Karnataka -\\n\\nJanuary 2014 to October 2016\\n\\nAssociate Consultant\\n\\nOracle -  Bangalore, Karnataka -\\n\\nNovember 2012 to December 2013\\n\\nEDUCATION\\n\\nB.E in Computer Science Engineering\\n\\nAdithya Institute of Technology -  Tamil Nadu\\n\\nSeptember 2008 to June 2012\\n\\nhttps://www.indeed.com/r/Govardhana-K/b2de315d95905b68?isid=rex-download&ikw=download-top&co=IN\\nhttps://www.indeed.com/r/Govardhana-K/b2de315d95905b68?isid=rex-download&ikw=download-top&co=IN\\n\\n\\nSKILLS\\n\\nAPEX. (Less than 1 year), Data Structures (3 years), FLEXCUBE (5 years), Oracle (5 years),\\nAlgorithms (3 years)\\n\\nLINKS\\n\\nhttps://www.linkedin.com/in/govardhana-k-61024944/\\n\\nADDITIONAL INFORMATION\\n\\nTechnical Proficiency:\\n\\nLanguages: Core Java, Go Lang, Data Structures & Algorithms, Oracle\\nPL-SQL programming, Sales Force with APEX.\\nTools: RADTool, Jdeveloper, NetBeans, Eclipse, SQL developer,\\nPL/SQL Developer, WinSCP, Putty\\nWeb Technologies: JavaScript, XML, HTML, Webservice\\n\\nOperating Systems: Linux, Windows\\nVersion control system SVN & Git-Hub\\nDatabases: Oracle\\nMiddleware: Web logic, OC4J\\nProduct FLEXCUBE: Oracle FLEXCUBE Versions 10.x, 11.x and 12.x\\n\\nhttps://www.linkedin.com/in/govardhana-k-61024944/'"
      ]
     },
     "execution_count": 10,
     "metadata": {},
     "output_type": "execute_result"
    }
   ],
   "source": [
    "df['content'][0]"
   ]
  },
  {
   "cell_type": "code",
   "execution_count": 11,
   "id": "e681cfe2-8ebd-40d3-b84c-04b51097465e",
   "metadata": {},
   "outputs": [
    {
     "data": {
      "text/plain": [
       "'govardhana k senior software engineer bengaluru karnataka karnataka email indeed indeedcomrgovardhanak bdedb total experience year month cloud lend solution inc month salesforce developer oracle year month core java developer languages core java go lang oracle plsql program sale force developer apex designation promotion willing relocate anywhere work experience senior software engineer cloud lending solution bangalore karnataka january present present senior consultant oracle bangalore karnataka november december staff consultant oracle bangalore karnataka january october associate consultant oracle bangalore karnataka november december education computer science engineering adithya institute technology tamil nadu september june httpswwwindeedcomrgovardhanakbdedbisidrexdownloadikwdownloadtopcoin httpswwwindeedcomrgovardhanakbdedbisidrexdownloadikwdownloadtopcoin skill apex less year data structure year flexcube year oracle year algorithms year link httpswwwlinkedincomingovardhanak additional information technical proficiency language core java go lang data structure algorithms oracle plsql program sale force apex tool radtool jdeveloper netbeans eclipse sql developer plsql developer winscp putty web technology javascript xml html webservice operate system linux windows version control system svn github database oracle middleware web logic ocj product flexcube oracle flexcube version x x x httpswwwlinkedincomingovardhanak'"
      ]
     },
     "execution_count": 11,
     "metadata": {},
     "output_type": "execute_result"
    }
   ],
   "source": [
    "df['cleaned_content'][0]"
   ]
  }
 ],
 "metadata": {
  "kernelspec": {
   "display_name": "Python 3 (ipykernel)",
   "language": "python",
   "name": "python3"
  },
  "language_info": {
   "codemirror_mode": {
    "name": "ipython",
    "version": 3
   },
   "file_extension": ".py",
   "mimetype": "text/x-python",
   "name": "python",
   "nbconvert_exporter": "python",
   "pygments_lexer": "ipython3",
   "version": "3.12.1"
  }
 },
 "nbformat": 4,
 "nbformat_minor": 5
}
