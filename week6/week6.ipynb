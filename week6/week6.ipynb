{
 "cells": [
  {
   "cell_type": "code",
   "execution_count": 3,
   "id": "fd7e3a12-4aea-48d8-9e5d-042f9911325e",
   "metadata": {},
   "outputs": [],
   "source": [
    "# Import libraries\n",
    "import pandas as pd\n",
    "import dask.dataframe as dd\n",
    "import modin.pandas as mpd\n",
    "import yaml\n",
    "import os"
   ]
  },
  {
   "cell_type": "code",
   "execution_count": 4,
   "id": "29b17865-1681-4890-8806-68d6e3d44ee0",
   "metadata": {},
   "outputs": [],
   "source": [
    "import time"
   ]
  },
  {
   "cell_type": "code",
   "execution_count": 5,
   "id": "9653af6b-d9fc-47da-a24a-701eb2722254",
   "metadata": {},
   "outputs": [
    {
     "data": {
      "text/plain": [
       "4737583595"
      ]
     },
     "execution_count": 5,
     "metadata": {},
     "output_type": "execute_result"
    }
   ],
   "source": [
    "os.path.getsize('train.csv')"
   ]
  },
  {
   "cell_type": "code",
   "execution_count": 6,
   "id": "bcf5efd8-f4a5-4c2f-8c7e-04e3661fe0bc",
   "metadata": {},
   "outputs": [
    {
     "name": "stdout",
     "output_type": "stream",
     "text": [
      "Execution time: 29.70072913169861 seconds\n"
     ]
    }
   ],
   "source": [
    "# Using Pandas\n",
    "start_time = time.time()\n",
    "file_path = 'train.csv'\n",
    "pandas_df = pd.read_csv(file_path)\n",
    "end_time = time.time()\n",
    "\n",
    "execution_time = end_time - start_time\n",
    "print(f\"Execution time: {execution_time} seconds\")"
   ]
  },
  {
   "cell_type": "code",
   "execution_count": 7,
   "id": "f9752a48-f219-45fb-891b-ef0169863837",
   "metadata": {},
   "outputs": [
    {
     "name": "stdout",
     "output_type": "stream",
     "text": [
      "Execution time: 0.04278922080993652 seconds\n"
     ]
    }
   ],
   "source": [
    "# Using Dask\n",
    "start_time = time.time()\n",
    "dask_df = dd.read_csv(file_path)\n",
    "end_time = time.time()\n",
    "\n",
    "execution_time = end_time - start_time\n",
    "print(f\"Execution time: {execution_time} seconds\")"
   ]
  },
  {
   "cell_type": "markdown",
   "id": "92d939f2-bc00-4702-957a-7364dc53f507",
   "metadata": {},
   "source": [
    "Ray is currently incompatible with the current version of python"
   ]
  },
  {
   "cell_type": "markdown",
   "id": "bad0e0da-f34c-4404-98da-2b7ce78d50f6",
   "metadata": {},
   "source": [
    "We can see that dask is faster when compared to pandas"
   ]
  },
  {
   "cell_type": "code",
   "execution_count": 8,
   "id": "aabc5d99-dfcd-4c78-a5c2-b7be65ab8028",
   "metadata": {},
   "outputs": [
    {
     "name": "stdout",
     "output_type": "stream",
     "text": [
      "Index(['image'], dtype='object')\n"
     ]
    }
   ],
   "source": [
    "print(dask_df.columns)"
   ]
  },
  {
   "cell_type": "code",
   "execution_count": 9,
   "id": "90c1b4a9-e19e-4bc0-b83f-43f9226a8c95",
   "metadata": {},
   "outputs": [
    {
     "data": {
      "text/plain": [
       "1336"
      ]
     },
     "execution_count": 9,
     "metadata": {},
     "output_type": "execute_result"
    }
   ],
   "source": [
    "len(dask_df)"
   ]
  },
  {
   "cell_type": "markdown",
   "id": "b05f8dcd-5981-4b5c-9a09-aaaadeafbc62",
   "metadata": {},
   "source": [
    "There is only one column, but we will try to run the strip function on it"
   ]
  },
  {
   "cell_type": "code",
   "execution_count": 10,
   "id": "4b1a36ce-f254-47e6-9fd3-2170c00fe194",
   "metadata": {},
   "outputs": [],
   "source": [
    "# Step 2: Basic validation on data columns\n",
    "\n",
    "dask_df.columns = dask_df.columns.str.replace(r'[^\\w\\s]', '').str.strip()"
   ]
  },
  {
   "cell_type": "code",
   "execution_count": 11,
   "id": "3ea01b6f-2ba6-4601-9d6d-deb7c9fac6b4",
   "metadata": {},
   "outputs": [
    {
     "name": "stdout",
     "output_type": "stream",
     "text": [
      "Index(['image'], dtype='object')\n"
     ]
    }
   ],
   "source": [
    "print(dask_df.columns)"
   ]
  },
  {
   "cell_type": "code",
   "execution_count": 18,
   "id": "c4be2976-c218-4567-acc0-a71e9670c1ec",
   "metadata": {},
   "outputs": [],
   "source": [
    "# Step 3: YAML file with column names\n",
    "yaml_file_path = 'columns.yaml'\n",
    "columns_yaml = {'file_type': 'csv','dataset_name': 'train','file_name': 'train','inbound_delimiter': \",\", 'outbound_delimiter': \"|\",\n",
    "'skip_leading_rows': 1,'columns': list(dask_df.columns)}\n",
    "with open(yaml_file_path, 'w') as yaml_file:\n",
    "    yaml.dump(columns_yaml, yaml_file)\n"
   ]
  },
  {
   "cell_type": "code",
   "execution_count": 14,
   "id": "c993b8dd-4348-4f1b-ae14-a7a3aa531495",
   "metadata": {},
   "outputs": [
    {
     "name": "stdout",
     "output_type": "stream",
     "text": [
      "Validation successful!\n"
     ]
    }
   ],
   "source": [
    "# Step 4: Validate number of columns and column names\n",
    "# Load YAML file\n",
    "with open(yaml_file_path, 'r') as yaml_file:\n",
    "    yaml_data = yaml.safe_load(yaml_file)\n",
    "\n",
    "expected_columns = yaml_data['columns']\n",
    "\n",
    "# Check number of columns and column names\n",
    "if len(pandas_df.columns) == len(expected_columns) and all(pandas_df.columns == expected_columns):\n",
    "    print(\"Validation successful!\")\n",
    "else:\n",
    "    print(\"Validation failed!\")\n"
   ]
  },
  {
   "cell_type": "code",
   "execution_count": 15,
   "id": "1fe5d19c-7a74-43ab-964c-f0918137a06f",
   "metadata": {},
   "outputs": [
    {
     "data": {
      "text/plain": [
       "['/Users/harshachaitanya/Desktop/DataGlacier/week6/output_file.gz/00.part',\n",
       " '/Users/harshachaitanya/Desktop/DataGlacier/week6/output_file.gz/01.part',\n",
       " '/Users/harshachaitanya/Desktop/DataGlacier/week6/output_file.gz/02.part',\n",
       " '/Users/harshachaitanya/Desktop/DataGlacier/week6/output_file.gz/03.part',\n",
       " '/Users/harshachaitanya/Desktop/DataGlacier/week6/output_file.gz/04.part',\n",
       " '/Users/harshachaitanya/Desktop/DataGlacier/week6/output_file.gz/05.part',\n",
       " '/Users/harshachaitanya/Desktop/DataGlacier/week6/output_file.gz/06.part',\n",
       " '/Users/harshachaitanya/Desktop/DataGlacier/week6/output_file.gz/07.part',\n",
       " '/Users/harshachaitanya/Desktop/DataGlacier/week6/output_file.gz/08.part',\n",
       " '/Users/harshachaitanya/Desktop/DataGlacier/week6/output_file.gz/09.part',\n",
       " '/Users/harshachaitanya/Desktop/DataGlacier/week6/output_file.gz/10.part',\n",
       " '/Users/harshachaitanya/Desktop/DataGlacier/week6/output_file.gz/11.part',\n",
       " '/Users/harshachaitanya/Desktop/DataGlacier/week6/output_file.gz/12.part',\n",
       " '/Users/harshachaitanya/Desktop/DataGlacier/week6/output_file.gz/13.part',\n",
       " '/Users/harshachaitanya/Desktop/DataGlacier/week6/output_file.gz/14.part',\n",
       " '/Users/harshachaitanya/Desktop/DataGlacier/week6/output_file.gz/15.part',\n",
       " '/Users/harshachaitanya/Desktop/DataGlacier/week6/output_file.gz/16.part',\n",
       " '/Users/harshachaitanya/Desktop/DataGlacier/week6/output_file.gz/17.part',\n",
       " '/Users/harshachaitanya/Desktop/DataGlacier/week6/output_file.gz/18.part',\n",
       " '/Users/harshachaitanya/Desktop/DataGlacier/week6/output_file.gz/19.part',\n",
       " '/Users/harshachaitanya/Desktop/DataGlacier/week6/output_file.gz/20.part',\n",
       " '/Users/harshachaitanya/Desktop/DataGlacier/week6/output_file.gz/21.part',\n",
       " '/Users/harshachaitanya/Desktop/DataGlacier/week6/output_file.gz/22.part',\n",
       " '/Users/harshachaitanya/Desktop/DataGlacier/week6/output_file.gz/23.part',\n",
       " '/Users/harshachaitanya/Desktop/DataGlacier/week6/output_file.gz/24.part',\n",
       " '/Users/harshachaitanya/Desktop/DataGlacier/week6/output_file.gz/25.part',\n",
       " '/Users/harshachaitanya/Desktop/DataGlacier/week6/output_file.gz/26.part',\n",
       " '/Users/harshachaitanya/Desktop/DataGlacier/week6/output_file.gz/27.part',\n",
       " '/Users/harshachaitanya/Desktop/DataGlacier/week6/output_file.gz/28.part',\n",
       " '/Users/harshachaitanya/Desktop/DataGlacier/week6/output_file.gz/29.part',\n",
       " '/Users/harshachaitanya/Desktop/DataGlacier/week6/output_file.gz/30.part',\n",
       " '/Users/harshachaitanya/Desktop/DataGlacier/week6/output_file.gz/31.part',\n",
       " '/Users/harshachaitanya/Desktop/DataGlacier/week6/output_file.gz/32.part',\n",
       " '/Users/harshachaitanya/Desktop/DataGlacier/week6/output_file.gz/33.part',\n",
       " '/Users/harshachaitanya/Desktop/DataGlacier/week6/output_file.gz/34.part',\n",
       " '/Users/harshachaitanya/Desktop/DataGlacier/week6/output_file.gz/35.part',\n",
       " '/Users/harshachaitanya/Desktop/DataGlacier/week6/output_file.gz/36.part',\n",
       " '/Users/harshachaitanya/Desktop/DataGlacier/week6/output_file.gz/37.part',\n",
       " '/Users/harshachaitanya/Desktop/DataGlacier/week6/output_file.gz/38.part',\n",
       " '/Users/harshachaitanya/Desktop/DataGlacier/week6/output_file.gz/39.part',\n",
       " '/Users/harshachaitanya/Desktop/DataGlacier/week6/output_file.gz/40.part',\n",
       " '/Users/harshachaitanya/Desktop/DataGlacier/week6/output_file.gz/41.part',\n",
       " '/Users/harshachaitanya/Desktop/DataGlacier/week6/output_file.gz/42.part',\n",
       " '/Users/harshachaitanya/Desktop/DataGlacier/week6/output_file.gz/43.part',\n",
       " '/Users/harshachaitanya/Desktop/DataGlacier/week6/output_file.gz/44.part',\n",
       " '/Users/harshachaitanya/Desktop/DataGlacier/week6/output_file.gz/45.part',\n",
       " '/Users/harshachaitanya/Desktop/DataGlacier/week6/output_file.gz/46.part',\n",
       " '/Users/harshachaitanya/Desktop/DataGlacier/week6/output_file.gz/47.part',\n",
       " '/Users/harshachaitanya/Desktop/DataGlacier/week6/output_file.gz/48.part',\n",
       " '/Users/harshachaitanya/Desktop/DataGlacier/week6/output_file.gz/49.part',\n",
       " '/Users/harshachaitanya/Desktop/DataGlacier/week6/output_file.gz/50.part',\n",
       " '/Users/harshachaitanya/Desktop/DataGlacier/week6/output_file.gz/51.part',\n",
       " '/Users/harshachaitanya/Desktop/DataGlacier/week6/output_file.gz/52.part',\n",
       " '/Users/harshachaitanya/Desktop/DataGlacier/week6/output_file.gz/53.part',\n",
       " '/Users/harshachaitanya/Desktop/DataGlacier/week6/output_file.gz/54.part',\n",
       " '/Users/harshachaitanya/Desktop/DataGlacier/week6/output_file.gz/55.part',\n",
       " '/Users/harshachaitanya/Desktop/DataGlacier/week6/output_file.gz/56.part',\n",
       " '/Users/harshachaitanya/Desktop/DataGlacier/week6/output_file.gz/57.part',\n",
       " '/Users/harshachaitanya/Desktop/DataGlacier/week6/output_file.gz/58.part',\n",
       " '/Users/harshachaitanya/Desktop/DataGlacier/week6/output_file.gz/59.part',\n",
       " '/Users/harshachaitanya/Desktop/DataGlacier/week6/output_file.gz/60.part',\n",
       " '/Users/harshachaitanya/Desktop/DataGlacier/week6/output_file.gz/61.part',\n",
       " '/Users/harshachaitanya/Desktop/DataGlacier/week6/output_file.gz/62.part',\n",
       " '/Users/harshachaitanya/Desktop/DataGlacier/week6/output_file.gz/63.part',\n",
       " '/Users/harshachaitanya/Desktop/DataGlacier/week6/output_file.gz/64.part',\n",
       " '/Users/harshachaitanya/Desktop/DataGlacier/week6/output_file.gz/65.part',\n",
       " '/Users/harshachaitanya/Desktop/DataGlacier/week6/output_file.gz/66.part',\n",
       " '/Users/harshachaitanya/Desktop/DataGlacier/week6/output_file.gz/67.part',\n",
       " '/Users/harshachaitanya/Desktop/DataGlacier/week6/output_file.gz/68.part',\n",
       " '/Users/harshachaitanya/Desktop/DataGlacier/week6/output_file.gz/69.part',\n",
       " '/Users/harshachaitanya/Desktop/DataGlacier/week6/output_file.gz/70.part',\n",
       " '/Users/harshachaitanya/Desktop/DataGlacier/week6/output_file.gz/71.part',\n",
       " '/Users/harshachaitanya/Desktop/DataGlacier/week6/output_file.gz/72.part',\n",
       " '/Users/harshachaitanya/Desktop/DataGlacier/week6/output_file.gz/73.part']"
      ]
     },
     "execution_count": 15,
     "metadata": {},
     "output_type": "execute_result"
    }
   ],
   "source": [
    "# Step 5: Write the file in pipe separated text file (|) in gz format\n",
    "output_file_path = 'output_file.gz'\n",
    "dask_df.to_csv(output_file_path, sep='|', compression='gzip', index=False)"
   ]
  },
  {
   "cell_type": "code",
   "execution_count": 16,
   "id": "8823919f-8daf-40f6-bff9-22ece14ab713",
   "metadata": {},
   "outputs": [
    {
     "data": {
      "text/plain": [
       "2432"
      ]
     },
     "execution_count": 16,
     "metadata": {},
     "output_type": "execute_result"
    }
   ],
   "source": [
    "os.path.getsize('output_file.gz')"
   ]
  },
  {
   "cell_type": "code",
   "execution_count": null,
   "id": "54cfad21-80e8-4844-b1d7-9586e26eb94e",
   "metadata": {},
   "outputs": [],
   "source": []
  }
 ],
 "metadata": {
  "kernelspec": {
   "display_name": "Python 3 (ipykernel)",
   "language": "python",
   "name": "python3"
  },
  "language_info": {
   "codemirror_mode": {
    "name": "ipython",
    "version": 3
   },
   "file_extension": ".py",
   "mimetype": "text/x-python",
   "name": "python",
   "nbconvert_exporter": "python",
   "pygments_lexer": "ipython3",
   "version": "3.12.1"
  }
 },
 "nbformat": 4,
 "nbformat_minor": 5
}
